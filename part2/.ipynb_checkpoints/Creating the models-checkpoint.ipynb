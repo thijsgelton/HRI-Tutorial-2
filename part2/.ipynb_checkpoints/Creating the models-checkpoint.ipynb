{
 "cells": [
  {
   "cell_type": "code",
   "execution_count": 1,
   "metadata": {},
   "outputs": [],
   "source": [
    "#imports\n",
    "from mpl_toolkits.mplot3d import Axes3D\n",
    "import matplotlib.pyplot as plt # creating visualizations\n",
    "import numpy as np # basic math and random numbers\n",
    "import pandas as pd\n",
    "from sklearn.preprocessing import StandardScaler\n",
    "import torch # package for building functions with learnable parameters\n",
    "import torch.nn as nn # prebuilt functions specific to neural networks\n",
    "import torch.nn.functional as F\n",
    "from torch.autograd import Variable # storing data while learning\n",
    "from torch.distributions import constraints, multivariate_normal, Normal\n",
    "from torch.distributions.distribution import Distribution\n",
    "from torch.utils.data import DataLoader, Dataset\n"
   ]
  },
  {
   "cell_type": "markdown",
   "metadata": {},
   "source": [
    "## First loading the recorded data"
   ]
  },
  {
   "cell_type": "code",
   "execution_count": 2,
   "metadata": {},
   "outputs": [
    {
     "name": "stdout",
     "output_type": "stream",
     "text": [
      "Number of samples: 160\n",
      "Number of samples after removing duplicates: 72\n"
     ]
    }
   ],
   "source": [
    "class CoordinateDataset(Dataset):\n",
    "    \n",
    "    def __init__(self, file_name, per_val=.3):\n",
    "        file_out = pd.read_csv(file_name, names=['ball_x', 'ball_y', 'positionLeftShoulderRoll', 'positionLeftShoulderPitch'])\n",
    "        print(f\"Number of samples: {len(file_out)}\")\n",
    "        file_out.drop_duplicates(subset=['ball_x','ball_y'], inplace=True)\n",
    "        deduplicted_count = len(file_out)\n",
    "        print(f\"Number of samples after removing duplicates: {deduplicted_count}\")\n",
    "        x = file_out[['ball_x','ball_y']].values\n",
    "        y = file_out[['positionLeftShoulderRoll', 'positionLeftShoulderPitch']].values\n",
    "        \n",
    "        x_tensor = torch.tensor(x, dtype=torch.float32)\n",
    "        y_tensor = torch.tensor(y, dtype=torch.float32)\n",
    "        indices = np.random.choice(range(len(deduplicted_count)), per_val*deduplicted_count)\n",
    "        self.x_all = Variable(x_tensor)\n",
    "        self.y_all = Variable(y_tensor, requires_grad=False)\n",
    "        self.x_train = Variable(x_tensor[x_tensor!=indices])\n",
    "        self.y_train = Variable(y_tensor[y_tensor!=indices], requires_grad=False)\n",
    "        self.x_val = Variable(x_tensor[x_tensor!=indices], requires_grad=False)\n",
    "        self.y_val = Variable(y_tensor[y_tensor!=indices], requires_grad=False)\n",
    "        \n",
    "    def __len__(self):\n",
    "        return len(self.y_train)\n",
    "    \n",
    "    def __getitem__(self, idx):\n",
    "        return self.x_train[idx], self.y_train[idx]\n",
    "        \n",
    "dataset = CoordinateDataset('../controllers/tutorial2_tracker/data_points.csv')"
   ]
  },
  {
   "cell_type": "markdown",
   "metadata": {},
   "source": [
    "## Then training the MDN"
   ]
  },
  {
   "cell_type": "code",
   "execution_count": 11,
   "metadata": {},
   "outputs": [],
   "source": [
    "class MDN(nn.Module):\n",
    "    def __init__(self, n_input, n_hidden, n_output, n_gaussians):\n",
    "        super(MDN, self).__init__()\n",
    "        self.fc1 = nn.Linear(n_input, n_hidden)\n",
    "        \n",
    "        #IMPORTANT notes\n",
    "        # - Use softmax activation for pi  (they need to add up to 1)\n",
    "        # - Use exponential linear unit for deviations (they should not be negative or close to zero)\n",
    "        self.pis = nn.Linear(n_hidden, n_gaussians) # Coefficents\n",
    "        self.mus = nn.Linear(n_hidden, n_gaussians * n_output) # Means\n",
    "        self.sigmas = nn.Linear(n_hidden, n_gaussians) # Variances / Deviations\n",
    "        \n",
    "\n",
    "    def forward(self, x):\n",
    "        #Program the forward pass\n",
    "        x = torch.tanh(self.fc1(x))\n",
    "        pi = F.softmax(self.pis(x), -1)\n",
    "        sigma = torch.exp(self.sigmas(x))\n",
    "        mu = self.mus(x)\n",
    "        \n",
    "        return pi, sigma, mu"
   ]
  },
  {
   "cell_type": "code",
   "execution_count": 12,
   "metadata": {},
   "outputs": [],
   "source": [
    "oneDivSqrtTwoPI = 1.0 / np.sqrt(2.0*np.pi)\n",
    "def gaussian_distribution(y, mu, sigma):\n",
    "    result = (y - mu) * torch.reciprocal(sigma)\n",
    "    result = -0.5 * (result * result)\n",
    "    return (torch.exp(result) * torch.reciprocal(sigma)) * oneDivSqrtTwoPI\n",
    "\n",
    "def loss_fn(pi, sigma, mu, y):\n",
    "    N, K = pi.shape\n",
    "    _, KT = mu.shape\n",
    "    NO = int(KT / K)\n",
    "    losses = Variable(torch.zeros(N, K))\n",
    "    for i in range(K): \n",
    "        window_mu = mu[:, i*NO:(i+1)*NO]\n",
    "        sigma_expanded = sigma[:, i].unsqueeze(-1).repeat(1, NO)\n",
    "        likelihood_z_x = -torch.log(gaussian_distribution(y, window_mu, sigma_expanded))\n",
    "        prior_z = pi[:, i]\n",
    "        losses += torch.mean(prior_z.unsqueeze(-1).repeat(1, NO) * likelihood_z_x)\n",
    "    loss = torch.mean(losses)\n",
    "    return loss"
   ]
  },
  {
   "cell_type": "code",
   "execution_count": 13,
   "metadata": {},
   "outputs": [],
   "source": [
    "NGAUSSIANS = 1\n",
    "EPOCHS = 20000\n",
    "model = MDN(n_input=2, n_hidden=6, n_output=2, n_gaussians=NGAUSSIANS)\n",
    "optimizer = torch.optim.Adam(model.parameters()) # Select optimizer\n",
    "mdn_train_losses = []\n",
    "mdn_validation_losses = []\n",
    "\n",
    "def train_mdn(network, x_train, y_train, x_val, y_val):\n",
    "    for epoch in range(EPOCHS):            \n",
    "        pi_variable, sigma_variable, mu_variable = network(x_train)\n",
    "        train_loss = loss_fn(pi_variable, sigma_variable, mu_variable, y_train)\n",
    "        optimizer.zero_grad()\n",
    "        train_loss.backward()\n",
    "        optimizer.step()\n",
    "        mdn_train_losses.append(loss.item())\n",
    "        \n",
    "        pi_variable, sigma_variable, mu_variable = network(x_val)\n",
    "        val_loss = loss_fn(pi_variable, sigma_variable, mu_variable, y_val)\n",
    "        mdn_validation_losses.append(val_loss.item())\n",
    "\n",
    "        if epoch % 500 == 0:\n",
    "            print(epoch, loss.item())"
   ]
  },
  {
   "cell_type": "code",
   "execution_count": 97,
   "metadata": {
    "scrolled": true
   },
   "outputs": [
    {
     "name": "stdout",
     "output_type": "stream",
     "text": [
      "0 1.1031849384307861\n",
      "500 -0.8047128915786743\n",
      "1000 -1.2759203910827637\n",
      "1500 -1.307897925376892\n",
      "2000 -1.3178372383117676\n",
      "2500 -1.318604826927185\n",
      "3000 -1.3276842832565308\n",
      "3500 -1.2931653261184692\n",
      "4000 -1.336362361907959\n",
      "4500 -1.3379261493682861\n",
      "5000 -1.3283414840698242\n",
      "5500 -1.3394709825515747\n",
      "6000 -1.34402334690094\n",
      "6500 -1.3460674285888672\n",
      "7000 -1.346411108970642\n",
      "7500 -1.3498773574829102\n",
      "8000 -1.3531723022460938\n",
      "8500 -1.3562045097351074\n",
      "9000 -1.358870506286621\n",
      "9500 -1.3629310131072998\n",
      "10000 -1.3693721294403076\n",
      "10500 -1.3795504570007324\n",
      "11000 -1.3904485702514648\n",
      "11500 -1.3328485488891602\n",
      "12000 -1.3361876010894775\n",
      "12500 -1.3387372493743896\n",
      "13000 -1.3414136171340942\n",
      "13500 -1.344239592552185\n",
      "14000 -1.3463503122329712\n",
      "14500 -1.3477126359939575\n",
      "15000 -1.349266767501831\n",
      "15500 -1.2929936647415161\n",
      "16000 -1.3515030145645142\n",
      "16500 -1.3524872064590454\n",
      "17000 -1.3536690473556519\n",
      "17500 -1.3549176454544067\n",
      "18000 -1.356475591659546\n",
      "18500 -1.3580046892166138\n",
      "19000 -1.3587418794631958\n",
      "19500 -1.3591859340667725\n"
     ]
    }
   ],
   "source": [
    "train_mdn(model, dataset.x_train, dataset.y_train, dataset.x_val, dataset.y_val)"
   ]
  },
  {
   "cell_type": "code",
   "execution_count": 98,
   "metadata": {},
   "outputs": [
    {
     "data": {
      "image/png": "[encoded data removed]",
      "text/plain": [
       "<Figure size 432x288 with 1 Axes>"
      ]
     },
     "metadata": {
      "needs_background": "light"
     },
     "output_type": "display_data"
    }
   ],
   "source": [
    "plt.plot(np.exp(mdn_losses), label=\"MDN (e^loss)\")\n",
    "plt.legend()\n",
    "plt.show()"
   ]
  },
  {
   "cell_type": "code",
   "execution_count": 99,
   "metadata": {},
   "outputs": [],
   "source": [
    "torch.save(model.state_dict(), f'mdn_model_nao_{int(EPOCHS/1000)}kepochs_{NGAUSSIANS}gaussians')"
   ]
  },
  {
   "cell_type": "code",
   "execution_count": 5,
   "metadata": {},
   "outputs": [],
   "source": [
    "class FFN(nn.Module):\n",
    "    \n",
    "    def __init__(self, n_input, n_hidden, n_output):\n",
    "        super(FFN, self).__init__()\n",
    "        self.fc1 = nn.Linear(n_input, n_hidden)\n",
    "        self.fc2 = nn.Linear(n_hidden, n_output)\n",
    "        \n",
    "    def forward(self, x):\n",
    "        x = torch.tanh(self.fc1(x))\n",
    "        return self.fc2(x)\n",
    "        "
   ]
  },
  {
   "cell_type": "code",
   "execution_count": 6,
   "metadata": {},
   "outputs": [],
   "source": [
    "model_ffn = FFN(n_input=2, n_hidden=6, n_output=2)"
   ]
  },
  {
   "cell_type": "code",
   "execution_count": 7,
   "metadata": {},
   "outputs": [],
   "source": [
    "ffn_losses = []"
   ]
  },
  {
   "cell_type": "code",
   "execution_count": 8,
   "metadata": {},
   "outputs": [],
   "source": [
    "def train_ffn(network, x_train, y_train, optimizer, criterion):\n",
    "    for epoch in range(EPOCHS):\n",
    "        prediction = network(x_train)\n",
    "        loss = criterion(prediction, y_train)\n",
    "        optimizer.zero_grad()\n",
    "        loss.backward()\n",
    "        optimizer.step()\n",
    "\n",
    "        ffn_losses.append(loss.item())\n",
    "        if epoch % 500 == 0:\n",
    "            print(epoch, loss.item())"
   ]
  },
  {
   "cell_type": "code",
   "execution_count": 14,
   "metadata": {},
   "outputs": [
    {
     "name": "stdout",
     "output_type": "stream",
     "text": [
      "0 1.0972189903259277\n",
      "500 0.005089393351227045\n",
      "1000 0.006339126266539097\n",
      "1500 0.00477307615801692\n",
      "2000 0.004799758084118366\n",
      "2500 0.0048306528478860855\n",
      "3000 0.006421910133212805\n",
      "3500 0.00507279671728611\n",
      "4000 0.005065955221652985\n",
      "4500 0.00475650280714035\n",
      "5000 0.004729771986603737\n",
      "5500 0.00480035413056612\n",
      "6000 0.005201213993132114\n",
      "6500 0.004737843293696642\n",
      "7000 0.007685525342822075\n",
      "7500 0.0049491566605865955\n",
      "8000 0.004846068099141121\n",
      "8500 0.005362698342651129\n",
      "9000 0.004849448334425688\n",
      "9500 0.00499696983024478\n",
      "10000 0.004955936688929796\n",
      "10500 0.00534116942435503\n",
      "11000 0.0059237414970994\n",
      "11500 0.004731324035674334\n",
      "12000 0.004770935978740454\n",
      "12500 0.004810573533177376\n",
      "13000 0.004853446036577225\n",
      "13500 0.004807109013199806\n",
      "14000 0.006342681124806404\n",
      "14500 0.004727894905954599\n",
      "15000 0.004723796155303717\n",
      "15500 0.00473053939640522\n",
      "16000 0.00814060028642416\n",
      "16500 0.004834093619138002\n",
      "17000 0.00484066316857934\n",
      "17500 0.005671193823218346\n",
      "18000 0.005415946710854769\n",
      "18500 0.004894337151199579\n",
      "19000 0.004789347760379314\n",
      "19500 0.0050940862856805325\n"
     ]
    }
   ],
   "source": [
    "optimizer = torch.optim.Adam(model_ffn.parameters(), lr=0.01)\n",
    "criterion = torch.nn.MSELoss() \n",
    "\n",
    "train_ffn(model_ffn, dataset.x_train, dataset.y_train, optimizer, criterion)"
   ]
  },
  {
   "cell_type": "code",
   "execution_count": 15,
   "metadata": {},
   "outputs": [],
   "source": [
    "torch.save(model_ffn.state_dict(), f'ffn_model_nao_{int(EPOCHS/1000)}kepochs')"
   ]
  },
  {
   "cell_type": "code",
   "execution_count": 16,
   "metadata": {},
   "outputs": [
    {
     "data": {
      "image/png": "[encoded data removed]",
      "text/plain": [
       "<Figure size 432x288 with 1 Axes>"
      ]
     },
     "metadata": {
      "needs_background": "light"
     },
     "output_type": "display_data"
    }
   ],
   "source": [
    "plt.plot(ffn_losses, label=\"FFN\")\n",
    "plt.legend()\n",
    "plt.show()"
   ]
  }
 ],
 "metadata": {
  "kernelspec": {
   "display_name": "Python 3",
   "language": "python",
   "name": "python3"
  },
  "language_info": {
   "codemirror_mode": {
    "name": "ipython",
    "version": 3
   },
   "file_extension": ".py",
   "mimetype": "text/x-python",
   "name": "python",
   "nbconvert_exporter": "python",
   "pygments_lexer": "ipython3",
   "version": "3.7.4"
  }
 },
 "nbformat": 4,
 "nbformat_minor": 2
}
