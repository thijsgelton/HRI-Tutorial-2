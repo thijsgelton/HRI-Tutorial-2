{
 "cells": [
  {
   "cell_type": "code",
   "execution_count": 2,
   "metadata": {},
   "outputs": [],
   "source": [
    "#imports\n",
    "from mpl_toolkits.mplot3d import Axes3D\n",
    "import matplotlib.pyplot as plt # creating visualizations\n",
    "import numpy as np # basic math and random numbers\n",
    "import pandas as pd\n",
    "from sklearn.preprocessing import StandardScaler\n",
    "import torch # package for building functions with learnable parameters\n",
    "import torch.nn as nn # prebuilt functions specific to neural networks\n",
    "import torch.nn.functional as F\n",
    "from torch.autograd import Variable # storing data while learning\n",
    "from torch.distributions import constraints, multivariate_normal, Normal\n",
    "from torch.distributions.distribution import Distribution\n",
    "from torch.utils.data import DataLoader, Dataset\n"
   ]
  },
  {
   "cell_type": "markdown",
   "metadata": {},
   "source": [
    "## First loading the recorded data"
   ]
  },
  {
   "cell_type": "code",
   "execution_count": 3,
   "metadata": {},
   "outputs": [
    {
     "name": "stdout",
     "output_type": "stream",
     "text": [
      "Number of samples: 160\n",
      "Number of samples after removing duplicates: 72\n"
     ]
    }
   ],
   "source": [
    "class CoordinateDataset(Dataset):\n",
    "    \n",
    "    def __init__(self, file_name, per_val=1/72):\n",
    "        random_seed= 42\n",
    "        file_out = pd.read_csv(file_name, names=['ball_x', 'ball_y', 'positionLeftShoulderRoll', 'positionLeftShoulderPitch'])\n",
    "        print(f\"Number of samples: {len(file_out)}\")\n",
    "        file_out.drop_duplicates(subset=['ball_x','ball_y'], inplace=True)\n",
    "        deduplicted_count = len(file_out)\n",
    "        print(f\"Number of samples after removing duplicates: {deduplicted_count}\")\n",
    "        x = file_out[['ball_x','ball_y']].values\n",
    "        y = file_out[['positionLeftShoulderRoll', 'positionLeftShoulderPitch']].values\n",
    "        \n",
    "        x_tensor = torch.tensor(x, dtype=torch.float32)\n",
    "        y_tensor = torch.tensor(y, dtype=torch.float32)\n",
    "        indices = list(range(deduplicted_count))\n",
    "        split = int(np.floor(per_val * deduplicted_count))\n",
    "        np.random.seed(random_seed)\n",
    "        np.random.shuffle(indices)\n",
    "        train_indices, val_indices = indices[split:], indices[:split]\n",
    "        self.x_all = Variable(x_tensor)\n",
    "        self.y_all = Variable(y_tensor, requires_grad=False)\n",
    "        self.x_train = Variable(x_tensor[train_indices]).squeeze()\n",
    "        self.y_train = Variable(y_tensor[train_indices], requires_grad=False).squeeze()\n",
    "        self.x_val = Variable(x_tensor[val_indices], requires_grad=False).squeeze()\n",
    "        self.y_val = Variable(y_tensor[val_indices], requires_grad=False).squeeze()\n",
    "        \n",
    "    def __len__(self):\n",
    "        return len(self.y_train)\n",
    "    \n",
    "    def __getitem__(self, idx):\n",
    "        return self.x_train[idx], self.y_train[idx]\n",
    "        \n",
    "dataset = CoordinateDataset('../controllers/tutorial2_tracker/data_points.csv')"
   ]
  },
  {
   "cell_type": "markdown",
   "metadata": {},
   "source": [
    "## Then training the MDN"
   ]
  },
  {
   "cell_type": "code",
   "execution_count": 4,
   "metadata": {},
   "outputs": [],
   "source": [
    "class MDN(nn.Module):\n",
    "    def __init__(self, n_input, n_hidden, n_output, n_gaussians):\n",
    "        super(MDN, self).__init__()\n",
    "        self.n_gaussians = n_gaussians\n",
    "        self.fc1 = nn.Linear(n_input, n_hidden)\n",
    "        \n",
    "        #IMPORTANT notes\n",
    "        # - Use softmax activation for pi  (they need to add up to 1)\n",
    "        # - Use exponential linear unit for deviations (they should not be negative or close to zero)\n",
    "        self.pis = nn.Linear(n_hidden, n_gaussians) # Coefficents\n",
    "        self.mus = nn.Linear(n_hidden, n_gaussians * n_output) # Means\n",
    "        self.sigmas = nn.Linear(n_hidden, n_gaussians) # Variances / Deviations\n",
    "        \n",
    "\n",
    "    def forward(self, x):\n",
    "        #Program the forward pass\n",
    "        x = torch.tanh(self.fc1(x))\n",
    "        pi = F.softmax(self.pis(x), -1)\n",
    "        sigma = torch.exp(self.sigmas(x))\n",
    "        mu = self.mus(x)\n",
    "        \n",
    "        return pi, sigma, mu"
   ]
  },
  {
   "cell_type": "code",
   "execution_count": 5,
   "metadata": {},
   "outputs": [],
   "source": [
    "oneDivSqrtTwoPI = 1.0 / np.sqrt(2.0*np.pi)\n",
    "def gaussian_distribution(y, mu, sigma):\n",
    "    result = (y - mu) * torch.reciprocal(sigma)\n",
    "    result = -0.5 * (result * result)\n",
    "    return (torch.exp(result) * torch.reciprocal(sigma)) * oneDivSqrtTwoPI\n",
    "\n",
    "def loss_fn(pi, sigma, mu, y):\n",
    "    N, K = pi.shape\n",
    "    _, KT = mu.shape\n",
    "    NO = int(KT / K)\n",
    "    losses = Variable(torch.zeros(N, K))\n",
    "    for i in range(K): \n",
    "        window_mu = mu[:, i*NO:(i+1)*NO]\n",
    "        sigma_expanded = sigma[:, i].unsqueeze(-1).repeat(1, NO)\n",
    "        likelihood_z_x = -torch.log(gaussian_distribution(y, window_mu, sigma_expanded))\n",
    "        prior_z = pi[:, i]\n",
    "        losses += torch.mean(prior_z.unsqueeze(-1).repeat(1, NO) * likelihood_z_x)\n",
    "    loss = torch.mean(losses)\n",
    "    return loss"
   ]
  },
  {
   "cell_type": "code",
   "execution_count": 162,
   "metadata": {},
   "outputs": [],
   "source": [
    "NGAUSSIANS = 4\n",
    "EPOCHS = 20000\n",
    "model = MDN(n_input=2, n_hidden=20, n_output=2, n_gaussians=NGAUSSIANS)\n",
    "optimizer = torch.optim.Adam(model.parameters(), eps=1e-2) # Select optimizer\n",
    "mdn_train_losses = []\n",
    "mdn_validation_losses = []"
   ]
  },
  {
   "cell_type": "code",
   "execution_count": 163,
   "metadata": {},
   "outputs": [],
   "source": [
    "def train_mdn(network, x_train, y_train, x_val, y_val):\n",
    "    for epoch in range(EPOCHS):            \n",
    "        pi_variable, sigma_variable, mu_variable = network(x_train)\n",
    "        train_loss = loss_fn(pi_variable, sigma_variable, mu_variable, y_train)\n",
    "        optimizer.zero_grad()\n",
    "        train_loss.backward()\n",
    "        optimizer.step()\n",
    "        mdn_train_losses.append(train_loss.item())\n",
    "        if len(x_val):\n",
    "            pi_variable, sigma_variable, mu_variable = network(x_val)\n",
    "            val_loss = loss_fn(pi_variable, sigma_variable, mu_variable, y_val)\n",
    "            mdn_validation_losses.append(val_loss.item())\n",
    "\n",
    "        if epoch % 500 == 0:\n",
    "            if len(x_val):\n",
    "                print(epoch, train_loss.item(), val_loss.item())\n",
    "            else:\n",
    "                print(epoch, train_loss.item())                "
   ]
  },
  {
   "cell_type": "code",
   "execution_count": 164,
   "metadata": {
    "scrolled": true
   },
   "outputs": [
    {
     "name": "stdout",
     "output_type": "stream",
     "text": [
      "0 inf nan\n",
      "500 nan nan\n",
      "1000 nan nan\n",
      "1500 nan nan\n"
     ]
    },
    {
     "ename": "KeyboardInterrupt",
     "evalue": "",
     "output_type": "error",
     "traceback": [
      "\u001b[1;31m---------------------------------------------------------------------------\u001b[0m",
      "\u001b[1;31mKeyboardInterrupt\u001b[0m                         Traceback (most recent call last)",
      "\u001b[1;32m<ipython-input-164-f030a0a4ce0f>\u001b[0m in \u001b[0;36m<module>\u001b[1;34m\u001b[0m\n\u001b[1;32m----> 1\u001b[1;33m \u001b[0mtrain_mdn\u001b[0m\u001b[1;33m(\u001b[0m\u001b[0mmodel\u001b[0m\u001b[1;33m,\u001b[0m \u001b[0mdataset\u001b[0m\u001b[1;33m.\u001b[0m\u001b[0mx_train\u001b[0m\u001b[1;33m,\u001b[0m \u001b[0mdataset\u001b[0m\u001b[1;33m.\u001b[0m\u001b[0my_train\u001b[0m\u001b[1;33m,\u001b[0m \u001b[0mdataset\u001b[0m\u001b[1;33m.\u001b[0m\u001b[0mx_val\u001b[0m\u001b[1;33m,\u001b[0m \u001b[0mdataset\u001b[0m\u001b[1;33m.\u001b[0m\u001b[0my_val\u001b[0m\u001b[1;33m)\u001b[0m\u001b[1;33m\u001b[0m\u001b[1;33m\u001b[0m\u001b[0m\n\u001b[0m",
      "\u001b[1;32m<ipython-input-163-e29db9713a8e>\u001b[0m in \u001b[0;36mtrain_mdn\u001b[1;34m(network, x_train, y_train, x_val, y_val)\u001b[0m\n\u001b[0;32m      9\u001b[0m         \u001b[1;32mif\u001b[0m \u001b[0mlen\u001b[0m\u001b[1;33m(\u001b[0m\u001b[0mx_val\u001b[0m\u001b[1;33m)\u001b[0m\u001b[1;33m:\u001b[0m\u001b[1;33m\u001b[0m\u001b[1;33m\u001b[0m\u001b[0m\n\u001b[0;32m     10\u001b[0m             \u001b[0mpi_variable\u001b[0m\u001b[1;33m,\u001b[0m \u001b[0msigma_variable\u001b[0m\u001b[1;33m,\u001b[0m \u001b[0mmu_variable\u001b[0m \u001b[1;33m=\u001b[0m \u001b[0mnetwork\u001b[0m\u001b[1;33m(\u001b[0m\u001b[0mx_val\u001b[0m\u001b[1;33m)\u001b[0m\u001b[1;33m\u001b[0m\u001b[1;33m\u001b[0m\u001b[0m\n\u001b[1;32m---> 11\u001b[1;33m             \u001b[0mval_loss\u001b[0m \u001b[1;33m=\u001b[0m \u001b[0mloss_fn\u001b[0m\u001b[1;33m(\u001b[0m\u001b[0mpi_variable\u001b[0m\u001b[1;33m,\u001b[0m \u001b[0msigma_variable\u001b[0m\u001b[1;33m,\u001b[0m \u001b[0mmu_variable\u001b[0m\u001b[1;33m,\u001b[0m \u001b[0my_val\u001b[0m\u001b[1;33m)\u001b[0m\u001b[1;33m\u001b[0m\u001b[1;33m\u001b[0m\u001b[0m\n\u001b[0m\u001b[0;32m     12\u001b[0m             \u001b[0mmdn_validation_losses\u001b[0m\u001b[1;33m.\u001b[0m\u001b[0mappend\u001b[0m\u001b[1;33m(\u001b[0m\u001b[0mval_loss\u001b[0m\u001b[1;33m.\u001b[0m\u001b[0mitem\u001b[0m\u001b[1;33m(\u001b[0m\u001b[1;33m)\u001b[0m\u001b[1;33m)\u001b[0m\u001b[1;33m\u001b[0m\u001b[1;33m\u001b[0m\u001b[0m\n\u001b[0;32m     13\u001b[0m \u001b[1;33m\u001b[0m\u001b[0m\n",
      "\u001b[1;32m<ipython-input-161-2caafa11a7af>\u001b[0m in \u001b[0;36mloss_fn\u001b[1;34m(pi, sigma, mu, y)\u001b[0m\n\u001b[0;32m     13\u001b[0m         \u001b[0mwindow_mu\u001b[0m \u001b[1;33m=\u001b[0m \u001b[0mmu\u001b[0m\u001b[1;33m[\u001b[0m\u001b[1;33m:\u001b[0m\u001b[1;33m,\u001b[0m \u001b[0mi\u001b[0m\u001b[1;33m*\u001b[0m\u001b[0mNO\u001b[0m\u001b[1;33m:\u001b[0m\u001b[1;33m(\u001b[0m\u001b[0mi\u001b[0m\u001b[1;33m+\u001b[0m\u001b[1;36m1\u001b[0m\u001b[1;33m)\u001b[0m\u001b[1;33m*\u001b[0m\u001b[0mNO\u001b[0m\u001b[1;33m]\u001b[0m\u001b[1;33m\u001b[0m\u001b[1;33m\u001b[0m\u001b[0m\n\u001b[0;32m     14\u001b[0m         \u001b[0msigma_expanded\u001b[0m \u001b[1;33m=\u001b[0m \u001b[0msigma\u001b[0m\u001b[1;33m[\u001b[0m\u001b[1;33m:\u001b[0m\u001b[1;33m,\u001b[0m \u001b[0mi\u001b[0m\u001b[1;33m]\u001b[0m\u001b[1;33m.\u001b[0m\u001b[0munsqueeze\u001b[0m\u001b[1;33m(\u001b[0m\u001b[1;33m-\u001b[0m\u001b[1;36m1\u001b[0m\u001b[1;33m)\u001b[0m\u001b[1;33m.\u001b[0m\u001b[0mrepeat\u001b[0m\u001b[1;33m(\u001b[0m\u001b[1;36m1\u001b[0m\u001b[1;33m,\u001b[0m \u001b[0mNO\u001b[0m\u001b[1;33m)\u001b[0m\u001b[1;33m\u001b[0m\u001b[1;33m\u001b[0m\u001b[0m\n\u001b[1;32m---> 15\u001b[1;33m         \u001b[0mlikelihood_z_x\u001b[0m \u001b[1;33m=\u001b[0m \u001b[1;33m-\u001b[0m\u001b[0mtorch\u001b[0m\u001b[1;33m.\u001b[0m\u001b[0mlog\u001b[0m\u001b[1;33m(\u001b[0m\u001b[0mgaussian_distribution\u001b[0m\u001b[1;33m(\u001b[0m\u001b[0my\u001b[0m\u001b[1;33m,\u001b[0m \u001b[0mwindow_mu\u001b[0m\u001b[1;33m,\u001b[0m \u001b[0msigma_expanded\u001b[0m\u001b[1;33m)\u001b[0m\u001b[1;33m)\u001b[0m\u001b[1;33m\u001b[0m\u001b[1;33m\u001b[0m\u001b[0m\n\u001b[0m\u001b[0;32m     16\u001b[0m         \u001b[0mprior_z\u001b[0m \u001b[1;33m=\u001b[0m \u001b[0mpi\u001b[0m\u001b[1;33m[\u001b[0m\u001b[1;33m:\u001b[0m\u001b[1;33m,\u001b[0m \u001b[0mi\u001b[0m\u001b[1;33m]\u001b[0m\u001b[1;33m\u001b[0m\u001b[1;33m\u001b[0m\u001b[0m\n\u001b[0;32m     17\u001b[0m         \u001b[0mlosses\u001b[0m \u001b[1;33m+=\u001b[0m \u001b[0mtorch\u001b[0m\u001b[1;33m.\u001b[0m\u001b[0mmean\u001b[0m\u001b[1;33m(\u001b[0m\u001b[0mprior_z\u001b[0m\u001b[1;33m.\u001b[0m\u001b[0munsqueeze\u001b[0m\u001b[1;33m(\u001b[0m\u001b[1;33m-\u001b[0m\u001b[1;36m1\u001b[0m\u001b[1;33m)\u001b[0m\u001b[1;33m.\u001b[0m\u001b[0mrepeat\u001b[0m\u001b[1;33m(\u001b[0m\u001b[1;36m1\u001b[0m\u001b[1;33m,\u001b[0m \u001b[0mNO\u001b[0m\u001b[1;33m)\u001b[0m \u001b[1;33m*\u001b[0m \u001b[0mlikelihood_z_x\u001b[0m\u001b[1;33m)\u001b[0m\u001b[1;33m\u001b[0m\u001b[1;33m\u001b[0m\u001b[0m\n",
      "\u001b[1;31mKeyboardInterrupt\u001b[0m: "
     ]
    }
   ],
   "source": [
    "train_mdn(model, dataset.x_train, dataset.y_train, dataset.x_val, dataset.y_val)"
   ]
  },
  {
   "cell_type": "code",
   "execution_count": 143,
   "metadata": {},
   "outputs": [
    {
     "data": {
      "image/png": "[encoded data removed]",
      "text/plain": [
       "<Figure size 432x288 with 1 Axes>"
      ]
     },
     "metadata": {
      "needs_background": "light"
     },
     "output_type": "display_data"
    }
   ],
   "source": [
    "plt.plot(np.exp(mdn_train_losses[:3500]), label=\"MDN (e^loss)\")\n",
    "plt.plot(np.exp(mdn_validation_losses[:3500]), label=\"MDN (e^loss)\")\n",
    "plt.legend()\n",
    "plt.savefig('MDN_loss_3500_samples.png')\n",
    "plt.show()"
   ]
  },
  {
   "cell_type": "code",
   "execution_count": 226,
   "metadata": {},
   "outputs": [],
   "source": [
    "NGAUSSIANS = 5\n",
    "EPOCHS = 20000\n",
    "model = MDN(n_input=2, n_hidden=20, n_output=2, n_gaussians=NGAUSSIANS)\n",
    "optimizer = torch.optim.Adam(model.parameters(), eps=1e-5) # Select optimizer"
   ]
  },
  {
   "cell_type": "code",
   "execution_count": 227,
   "metadata": {},
   "outputs": [
    {
     "name": "stdout",
     "output_type": "stream",
     "text": [
      "0 1.405687689781189\n",
      "500 -1.2385876178741455\n",
      "1000 -1.4040666818618774\n",
      "1500 -1.5414674282073975\n",
      "2000 -1.5891897678375244\n",
      "2500 -1.6237088441848755\n",
      "3000 -1.638383388519287\n",
      "3500 -1.6551529169082642\n",
      "4000 -1.6451473236083984\n",
      "4500 -1.6279864311218262\n",
      "5000 -1.6115610599517822\n",
      "5500 -1.710038661956787\n",
      "6000 -1.654036045074463\n",
      "6500 -1.7320054769515991\n",
      "7000 -1.7415828704833984\n",
      "7500 -1.7147029638290405\n",
      "8000 -1.7183215618133545\n",
      "8500 -1.7563360929489136\n",
      "9000 -1.7665117979049683\n",
      "9500 -1.787009358406067\n",
      "10000 -1.6961346864700317\n",
      "10500 -1.7914389371871948\n",
      "11000 -1.8033446073532104\n",
      "11500 -1.7709144353866577\n",
      "12000 -1.8136570453643799\n",
      "12500 -1.7529937028884888\n",
      "13000 -1.827904224395752\n",
      "13500 -1.7905620336532593\n",
      "14000 -1.8277989625930786\n",
      "14500 -1.8144646883010864\n",
      "15000 -1.8375742435455322\n",
      "15500 -1.8573106527328491\n",
      "16000 -1.8449437618255615\n",
      "16500 -1.8641479015350342\n",
      "17000 -1.868325114250183\n",
      "17500 -1.8763080835342407\n",
      "18000 -1.831475019454956\n",
      "18500 -1.7264975309371948\n",
      "19000 -1.8723245859146118\n",
      "19500 -1.7395778894424438\n"
     ]
    }
   ],
   "source": [
    "train_mdn(model, dataset.x_train, dataset.y_train, [], [])"
   ]
  },
  {
   "cell_type": "code",
   "execution_count": 228,
   "metadata": {},
   "outputs": [],
   "source": [
    "torch.save(model.state_dict(), f'mdn_model_nao_{int(EPOCHS/1000)}kepochs_{NGAUSSIANS}gaussians')"
   ]
  },
  {
   "cell_type": "markdown",
   "metadata": {},
   "source": [
    "# Interpreting the results"
   ]
  },
  {
   "cell_type": "code",
   "execution_count": 65,
   "metadata": {},
   "outputs": [],
   "source": [
    "import seaborn as sns"
   ]
  },
  {
   "cell_type": "code",
   "execution_count": 167,
   "metadata": {},
   "outputs": [],
   "source": [
    "NGAUSSIANS = 2"
   ]
  },
  {
   "cell_type": "code",
   "execution_count": 175,
   "metadata": {},
   "outputs": [],
   "source": [
    "model_two = MDN(n_input=2, n_hidden=20, n_output=2, n_gaussians=2)\n",
    "model_four = MDN(n_input=2, n_hidden=20, n_output=2, n_gaussians=4)\n",
    "model_five = MDN(n_input=2, n_hidden=20, n_output=2, n_gaussians=5)"
   ]
  },
  {
   "cell_type": "code",
   "execution_count": 176,
   "metadata": {},
   "outputs": [],
   "source": [
    "for model in [model_two, model_four, model_five]:\n",
    "    model.load_state_dict(torch.load(f'D:\\Projects\\Radboud Universiteit\\Human-Robot Interaction\\HRI_Tutorial2_students\\part2\\mdn_model_nao_20kepochs_{model.n_gaussians}gaussians'))"
   ]
  },
  {
   "cell_type": "code",
   "execution_count": 177,
   "metadata": {},
   "outputs": [],
   "source": [
    "lower_bound = dataset.x_all.min(dim=0).values\n",
    "upper_bound = dataset.x_all.max(dim=0).values\n",
    "mean_bound = dataset.x_all.mean(dim=0)"
   ]
  },
  {
   "cell_type": "code",
   "execution_count": 190,
   "metadata": {},
   "outputs": [
    {
     "name": "stderr",
     "output_type": "stream",
     "text": [
      "D:\\Programs\\Anaconda3\\lib\\site-packages\\seaborn\\distributions.py:2551: FutureWarning: `distplot` is a deprecated function and will be removed in a future version. Please adapt your code to use either `displot` (a figure-level function with similar flexibility) or `kdeplot` (an axes-level function for kernel density plots).\n",
      "  warnings.warn(msg, FutureWarning)\n",
      "D:\\Programs\\Anaconda3\\lib\\site-packages\\seaborn\\distributions.py:2551: FutureWarning: `distplot` is a deprecated function and will be removed in a future version. Please adapt your code to use either `displot` (a figure-level function with similar flexibility) or `kdeplot` (an axes-level function for kernel density plots).\n",
      "  warnings.warn(msg, FutureWarning)\n",
      "D:\\Programs\\Anaconda3\\lib\\site-packages\\seaborn\\distributions.py:2551: FutureWarning: `distplot` is a deprecated function and will be removed in a future version. Please adapt your code to use either `displot` (a figure-level function with similar flexibility) or `kdeplot` (an axes-level function for kernel density plots).\n",
      "  warnings.warn(msg, FutureWarning)\n",
      "D:\\Programs\\Anaconda3\\lib\\site-packages\\seaborn\\distributions.py:2551: FutureWarning: `distplot` is a deprecated function and will be removed in a future version. Please adapt your code to use either `displot` (a figure-level function with similar flexibility) or `histplot` (an axes-level function for histograms).\n",
      "  warnings.warn(msg, FutureWarning)\n"
     ]
    },
    {
     "data": {
      "image/png": "[encoded data removed]",
      "text/plain": [
       "<Figure size 432x288 with 1 Axes>"
      ]
     },
     "metadata": {
      "needs_background": "light"
     },
     "output_type": "display_data"
    }
   ],
   "source": [
    "import sys\n",
    "from sklearn.preprocessing import normalize\n",
    "from scipy.stats import norm\n",
    "\n",
    "n = len(dataset.y_all)\n",
    "samples_dict = {2: [], 4:[], 5:[]}\n",
    "for i in range(n):\n",
    "    for model in [model_two, model_four, model_five]:\n",
    "        pi_variable, sigma_variable, mu_variable = map(lambda x: x.data.numpy(), model(mean_bound))\n",
    "        index = pi_variable.argmax()\n",
    "        Z = np.random.choice([0,1]) \n",
    "        samples_dict[model.n_gaussians].append(np.random.normal(mu_variable[index+Z], sigma_variable[index], 1))\n",
    "for ngaussian, samples in samples_dict.items():    \n",
    "    sns.distplot(samples, hist=False, label=f\"Mixture [{ngaussian}] gaussians\")\n",
    "sns.distplot(dataset.y_all[:, 0], kde=False, norm_hist=True, label=\"Roll\")\n",
    "sns.distplot(dataset.y_all[:, 1], kde=False, norm_hist=True, label=\"Pitch\")\n",
    "plt.legend()\n",
    "plt.savefig(f\"20kepochs_distr.png\", dpi=150, bbox_inches='tight')\n",
    "plt.show()"
   ]
  },
  {
   "cell_type": "code",
   "execution_count": 94,
   "metadata": {},
   "outputs": [
    {
     "name": "stderr",
     "output_type": "stream",
     "text": [
      "D:\\Programs\\Anaconda3\\lib\\site-packages\\seaborn\\_decorators.py:43: FutureWarning: Pass the following variables as keyword args: x, y. From version 0.12, the only valid positional argument will be `data`, and passing other arguments without an explicit keyword will result in an error or misinterpretation.\n",
      "  FutureWarning\n",
      "D:\\Programs\\Anaconda3\\lib\\site-packages\\seaborn\\_decorators.py:43: FutureWarning: Pass the following variables as keyword args: x, y. From version 0.12, the only valid positional argument will be `data`, and passing other arguments without an explicit keyword will result in an error or misinterpretation.\n",
      "  FutureWarning\n"
     ]
    },
    {
     "data": {
      "image/png": "[encoded data removed]",
      "text/plain": [
       "<Figure size 432x288 with 1 Axes>"
      ]
     },
     "metadata": {
      "needs_background": "light"
     },
     "output_type": "display_data"
    },
    {
     "data": {
      "text/plain": [
       "<Figure size 432x288 with 0 Axes>"
      ]
     },
     "metadata": {},
     "output_type": "display_data"
    }
   ],
   "source": [
    "samples = []\n",
    "sort_by = np.argsort(dataset.y_val.data.numpy()[:, 0])\n",
    "x_val = dataset.x_val[sort_by, :]\n",
    "y_val = dataset.y_val[sort_by, :]\n",
    "for n in range(len(x_val)):\n",
    "    pi, sigma, mu = map(lambda x: x.data.numpy(), model(x_val[n]))\n",
    "    index = pi.argmax()\n",
    "    samples.append(np.random.normal(mu[index*2:(index+1)*2], sigma[index]))\n",
    "samples = np.array(samples)\n",
    "ax = sns.scatterplot(x_val[:, 0], samples[:, 0], label=\"Predicted\")\n",
    "sns.scatterplot( x_val[:, 0], y_val[:, 0], label=\"Target\")\n",
    "ax.set(ylabel=\"Roll angle\", xlabel=\"X position of the ball\")\n",
    "plt.legend()\n",
    "plt.show()\n",
    "plt.savefig(f\"{NGAUSSIANS}g_20kepochs_predictions_roll.png\", dpi=150, bbox_inches='tight')"
   ]
  },
  {
   "cell_type": "code",
   "execution_count": 99,
   "metadata": {},
   "outputs": [
    {
     "name": "stderr",
     "output_type": "stream",
     "text": [
      "D:\\Programs\\Anaconda3\\lib\\site-packages\\seaborn\\_decorators.py:43: FutureWarning: Pass the following variables as keyword args: x, y. From version 0.12, the only valid positional argument will be `data`, and passing other arguments without an explicit keyword will result in an error or misinterpretation.\n",
      "  FutureWarning\n",
      "D:\\Programs\\Anaconda3\\lib\\site-packages\\seaborn\\_decorators.py:43: FutureWarning: Pass the following variables as keyword args: x, y. From version 0.12, the only valid positional argument will be `data`, and passing other arguments without an explicit keyword will result in an error or misinterpretation.\n",
      "  FutureWarning\n"
     ]
    },
    {
     "data": {
      "image/png": "[encoded data removed]",
      "text/plain": [
       "<Figure size 432x288 with 1 Axes>"
      ]
     },
     "metadata": {
      "needs_background": "light"
     },
     "output_type": "display_data"
    },
    {
     "data": {
      "text/plain": [
       "<Figure size 432x288 with 0 Axes>"
      ]
     },
     "metadata": {},
     "output_type": "display_data"
    }
   ],
   "source": [
    "ax = sns.scatterplot(x_val[:, 1], samples[:, 1], label=\"Predicted\")\n",
    "sns.scatterplot( x_val[:, 1], y_val[:, 1], label=\"Target\")\n",
    "ax.set(ylabel=\"Pitch angle\", xlabel=\"Y position of the ball\")\n",
    "plt.legend()\n",
    "plt.show()\n",
    "plt.savefig(f\"{NGAUSSIANS}g_20kepochs_predictions_pitch.png\", dpi=150, bbox_inches='tight')"
   ]
  },
  {
   "cell_type": "markdown",
   "metadata": {},
   "source": [
    "# Training the FFN"
   ]
  },
  {
   "cell_type": "code",
   "execution_count": 179,
   "metadata": {},
   "outputs": [],
   "source": [
    "class FFN(nn.Module):\n",
    "    \n",
    "    def __init__(self, n_input, n_hidden, n_output):\n",
    "        super(FFN, self).__init__()\n",
    "        self.fc1 = nn.Linear(n_input, n_hidden)\n",
    "        self.fc2 = nn.Linear(n_hidden, n_output)\n",
    "        \n",
    "    def forward(self, x):\n",
    "        x = torch.tanh(self.fc1(x))\n",
    "        return self.fc2(x)\n",
    "        "
   ]
  },
  {
   "cell_type": "code",
   "execution_count": 213,
   "metadata": {},
   "outputs": [],
   "source": [
    "model_ffn = FFN(n_input=2, n_hidden=20, n_output=2)"
   ]
  },
  {
   "cell_type": "code",
   "execution_count": 214,
   "metadata": {},
   "outputs": [],
   "source": [
    "ffn_train_losses = []\n",
    "ffn_val_losses = []"
   ]
  },
  {
   "cell_type": "code",
   "execution_count": 215,
   "metadata": {},
   "outputs": [],
   "source": [
    "def train_ffn(network, x_train, y_train, x_val, y_val, optimizer, criterion):\n",
    "    for epoch in range(EPOCHS):\n",
    "        prediction = network(x_train)\n",
    "        train_loss = criterion(prediction, y_train)\n",
    "        optimizer.zero_grad()\n",
    "        train_loss.backward()\n",
    "        optimizer.step()\n",
    "        ffn_train_losses.append(train_loss.item())\n",
    "        \n",
    "        if len(x_val):\n",
    "            prediction = network(x_val)\n",
    "            val_loss = criterion(prediction, y_val)\n",
    "            ffn_val_losses.append(val_loss.item())\n",
    "        \n",
    "        if epoch % 500 == 0:\n",
    "            if len(x_val):\n",
    "                print(epoch, train_loss.item(), val_loss.item())\n",
    "            else:                \n",
    "                print(epoch, train_loss.item())"
   ]
  },
  {
   "cell_type": "code",
   "execution_count": 183,
   "metadata": {
    "scrolled": true
   },
   "outputs": [
    {
     "name": "stdout",
     "output_type": "stream",
     "text": [
      "0 0.3482914865016937 0.20209014415740967\n",
      "500 0.00511523662135005 0.01144341379404068\n",
      "1000 0.004615024197846651 0.012053677812218666\n",
      "1500 0.004553457722067833 0.01231544278562069\n",
      "2000 0.0044312733225524426 0.01528790034353733\n",
      "2500 0.004253795836120844 0.015059680677950382\n",
      "3000 0.004077734891325235 0.015013577416539192\n",
      "3500 0.003765449859201908 0.017069246619939804\n",
      "4000 0.003821505466476083 0.017809687182307243\n",
      "4500 0.0037543028593063354 0.017359083518385887\n",
      "5000 0.003752233926206827 0.01686130091547966\n",
      "5500 0.0036433329805731773 0.01764378510415554\n",
      "6000 0.003918065223842859 0.017405381426215172\n",
      "6500 0.003813232993707061 0.015692679211497307\n",
      "7000 0.003723699599504471 0.016373898833990097\n",
      "7500 0.0039247628301382065 0.012908668257296085\n",
      "8000 0.0037233317270874977 0.013478399254381657\n",
      "8500 0.004491924773901701 0.014538335613906384\n",
      "9000 0.00373210315592587 0.013724646531045437\n",
      "9500 0.0047440556809306145 0.01433162484318018\n",
      "10000 0.0037705330178141594 0.014143615961074829\n",
      "10500 0.0035675466060638428 0.015420044772326946\n",
      "11000 0.003604741534218192 0.014831558801233768\n",
      "11500 0.0035111447796225548 0.014233196154236794\n",
      "12000 0.0035841786302626133 0.013521968387067318\n",
      "12500 0.0035094565246254206 0.01366096269339323\n",
      "13000 0.003508981317281723 0.013987674377858639\n",
      "13500 0.0034907804802060127 0.014020724222064018\n",
      "14000 0.0034986152313649654 0.013809802941977978\n",
      "14500 0.0037075402215123177 0.013213897123932838\n",
      "15000 0.0036041259299963713 0.014117246493697166\n",
      "15500 0.006050871219485998 0.015833932906389236\n",
      "16000 0.0035447939299046993 0.01365913450717926\n",
      "16500 0.0035875895991921425 0.013555468991398811\n",
      "17000 0.0035171431954950094 0.013953945599496365\n",
      "17500 0.0034972766879945993 0.013503818772733212\n",
      "18000 0.0029731348622590303 0.014302646741271019\n",
      "18500 0.0030681060161441565 0.013692990876734257\n",
      "19000 0.002936303848400712 0.01384368073195219\n",
      "19500 0.004248249810189009 0.01379671972244978\n"
     ]
    }
   ],
   "source": [
    "optimizer = torch.optim.Adam(model_ffn.parameters(), lr=0.01)\n",
    "criterion = torch.nn.MSELoss() \n",
    "\n",
    "train_ffn(model_ffn, dataset.x_train, dataset.y_train, dataset.x_val, dataset.y_val, optimizer, criterion)"
   ]
  },
  {
   "cell_type": "markdown",
   "metadata": {},
   "source": [
    "# Interpreting the results of the FFN"
   ]
  },
  {
   "cell_type": "code",
   "execution_count": 184,
   "metadata": {},
   "outputs": [
    {
     "data": {
      "image/png": "[encoded data removed]",
      "text/plain": [
       "<Figure size 432x288 with 1 Axes>"
      ]
     },
     "metadata": {
      "needs_background": "light"
     },
     "output_type": "display_data"
    }
   ],
   "source": [
    "plt.plot(ffn_train_losses[:3500], label=\"Training loss\")\n",
    "plt.plot(ffn_val_losses[:3500], label=\"Validation loss\")\n",
    "plt.legend()\n",
    "plt.savefig(\"ffn_plot.png\")\n",
    "plt.show()"
   ]
  },
  {
   "cell_type": "code",
   "execution_count": 216,
   "metadata": {},
   "outputs": [
    {
     "name": "stdout",
     "output_type": "stream",
     "text": [
      "0 0.45653846859931946\n",
      "500 0.003761282190680504\n",
      "1000 0.0031117131002247334\n",
      "1500 0.003151800250634551\n",
      "2000 0.0031610801815986633\n",
      "2500 0.0034011872485280037\n",
      "3000 0.002956084907054901\n",
      "3500 0.002946213586255908\n",
      "4000 0.003545471467077732\n",
      "4500 0.002887016162276268\n",
      "5000 0.002939016791060567\n",
      "5500 0.002892370568588376\n",
      "6000 0.0028514242731034756\n",
      "6500 0.004623791668564081\n",
      "7000 0.002818482695147395\n",
      "7500 0.0028749974444508553\n",
      "8000 0.003641279647126794\n",
      "8500 0.002761710435152054\n",
      "9000 0.002759091090410948\n",
      "9500 0.0027186318766325712\n",
      "10000 0.002688279142603278\n",
      "10500 0.0027955288533121347\n",
      "11000 0.0031943318899720907\n",
      "11500 0.003153851954266429\n",
      "12000 0.00272001582197845\n",
      "12500 0.003142063971608877\n",
      "13000 0.0026631131768226624\n",
      "13500 0.0034514444414526224\n",
      "14000 0.0026026032865047455\n",
      "14500 0.0026518888771533966\n",
      "15000 0.0026415660977363586\n",
      "15500 0.0025918299797922373\n",
      "16000 0.002676890231668949\n",
      "16500 0.002581018954515457\n",
      "17000 0.0028205413836985826\n",
      "17500 0.0025948600377887487\n",
      "18000 0.0025863004848361015\n",
      "18500 0.002574461977928877\n",
      "19000 0.004700951743870974\n",
      "19500 0.00260932301171124\n"
     ]
    }
   ],
   "source": [
    "optimizer = torch.optim.Adam(model_ffn.parameters(), lr=0.01)\n",
    "criterion = torch.nn.MSELoss() \n",
    "\n",
    "train_ffn(model_ffn, dataset.x_train, dataset.y_train, [], [], optimizer, criterion)"
   ]
  },
  {
   "cell_type": "code",
   "execution_count": 217,
   "metadata": {},
   "outputs": [],
   "source": [
    "torch.save(model_ffn.state_dict(), f'ffn_model_nao_{int(EPOCHS/1000)}kepochs')"
   ]
  },
  {
   "cell_type": "markdown",
   "metadata": {},
   "source": [
    "# Comparing the FFN and MDN"
   ]
  },
  {
   "cell_type": "code",
   "execution_count": 128,
   "metadata": {},
   "outputs": [
    {
     "data": {
      "text/plain": [
       "<All keys matched successfully>"
      ]
     },
     "execution_count": 128,
     "metadata": {},
     "output_type": "execute_result"
    }
   ],
   "source": [
    "model.load_state_dict(torch.load(\n",
    "    f'D:\\Projects\\Radboud Universiteit\\Human-Robot Interaction\\HRI_Tutorial2_students\\part2\\mdn_model_nao_20kepochs_{NGAUSSIANS}gaussians'))"
   ]
  },
  {
   "cell_type": "code",
   "execution_count": 233,
   "metadata": {},
   "outputs": [
    {
     "name": "stdout",
     "output_type": "stream",
     "text": [
      "[MDN, 2] The outputted roll and pitch: (0.4489327073097229, 0.005710780620574951)\n",
      "[MDN, 4] The outputted roll and pitch: (0.42946740984916687, 0.006362535059452057)\n",
      "[MDN, 5] The outputted roll and pitch: (0.44971153140068054, 0.002745799720287323)\n",
      "[FFN] The outputted roll and pitch: (0.4417767822742462, -0.005063772201538086)\n",
      "The target roll and pitch: (tensor(0.4543), tensor(0.0014))\n"
     ]
    },
    {
     "name": "stderr",
     "output_type": "stream",
     "text": [
      "D:\\Programs\\Anaconda3\\lib\\site-packages\\seaborn\\_decorators.py:43: FutureWarning: Pass the following variables as keyword args: x, y. From version 0.12, the only valid positional argument will be `data`, and passing other arguments without an explicit keyword will result in an error or misinterpretation.\n",
      "  FutureWarning\n",
      "D:\\Programs\\Anaconda3\\lib\\site-packages\\seaborn\\_decorators.py:43: FutureWarning: Pass the following variables as keyword args: x, y. From version 0.12, the only valid positional argument will be `data`, and passing other arguments without an explicit keyword will result in an error or misinterpretation.\n",
      "  FutureWarning\n",
      "D:\\Programs\\Anaconda3\\lib\\site-packages\\seaborn\\_decorators.py:43: FutureWarning: Pass the following variables as keyword args: x, y. From version 0.12, the only valid positional argument will be `data`, and passing other arguments without an explicit keyword will result in an error or misinterpretation.\n",
      "  FutureWarning\n",
      "D:\\Programs\\Anaconda3\\lib\\site-packages\\seaborn\\_decorators.py:43: FutureWarning: Pass the following variables as keyword args: x, y. From version 0.12, the only valid positional argument will be `data`, and passing other arguments without an explicit keyword will result in an error or misinterpretation.\n",
      "  FutureWarning\n",
      "D:\\Programs\\Anaconda3\\lib\\site-packages\\seaborn\\_decorators.py:43: FutureWarning: Pass the following variables as keyword args: x, y. From version 0.12, the only valid positional argument will be `data`, and passing other arguments without an explicit keyword will result in an error or misinterpretation.\n",
      "  FutureWarning\n",
      "D:\\Programs\\Anaconda3\\lib\\site-packages\\numpy\\lib\\arraysetops.py:569: RuntimeWarning: invalid value encountered in equal\n",
      "  mask |= (ar1 == a)\n",
      "D:\\Programs\\Anaconda3\\lib\\site-packages\\numpy\\lib\\arraysetops.py:569: RuntimeWarning: invalid value encountered in equal\n",
      "  mask |= (ar1 == a)\n",
      "D:\\Programs\\Anaconda3\\lib\\site-packages\\numpy\\lib\\arraysetops.py:569: RuntimeWarning: invalid value encountered in equal\n",
      "  mask |= (ar1 == a)\n",
      "D:\\Programs\\Anaconda3\\lib\\site-packages\\numpy\\lib\\arraysetops.py:569: RuntimeWarning: invalid value encountered in equal\n",
      "  mask |= (ar1 == a)\n"
     ]
    },
    {
     "data": {
      "image/png": "[encoded data removed]",
      "text/plain": [
       "<Figure size 432x288 with 1 Axes>"
      ]
     },
     "metadata": {
      "needs_background": "light"
     },
     "output_type": "display_data"
    }
   ],
   "source": [
    "sample = 1\n",
    "for ngaussians in [2, 4, 5]:\n",
    "    model = MDN(n_input=2, n_hidden=20, n_output=2, n_gaussians=ngaussians)\n",
    "    model.load_state_dict(torch.load(\n",
    "    f'D:\\Projects\\Radboud Universiteit\\Human-Robot Interaction\\HRI_Tutorial2_students\\part2\\mdn_model_nao_20kepochs_{ngaussians}gaussians'))\n",
    "    pi, sigma, mu = model(dataset.x_val)\n",
    "    index = pi.argmax()\n",
    "    roll_mu, pitch_mu = mu[index*2:(index+1)*2]\n",
    "    print(f\"[MDN, {ngaussians}] The outputted roll and pitch: {roll_mu.item(), pitch_mu.item()}\")\n",
    "    sns.scatterplot([roll_mu.item()], [pitch_mu.item()], label=fr\"MDN[{ngaussians}] $\\mu$ pred.\")\n",
    "\n",
    "roll, pitch = model_ffn(dataset.x_val)\n",
    "print(f\"[FFN] The outputted roll and pitch: {roll.item(), pitch.item()}\")\n",
    "sns.scatterplot([roll.item()], [pitch.item()], label=\"FFN pred.\")\n",
    "target_roll_mean, target_pitch_mean = dataset.y_val\n",
    "print(f\"The target roll and pitch: {target_roll_mean, target_pitch_mean}\")\n",
    "ax = sns.scatterplot([target_roll_mean], [target_pitch_mean], label=\"Target\")\n",
    "ax.set(xlabel=\"Roll\", ylabel=\"Pitch\")\n",
    "plt.savefig(\"all_mod_predictions.png\", dpi=150, bbox_inches='tight')\n",
    "plt.show()"
   ]
  },
  {
   "cell_type": "code",
   "execution_count": null,
   "metadata": {},
   "outputs": [],
   "source": []
  }
 ],
 "metadata": {
  "kernelspec": {
   "display_name": "Python 3",
   "language": "python",
   "name": "python3"
  },
  "language_info": {
   "codemirror_mode": {
    "name": "ipython",
    "version": 3
   },
   "file_extension": ".py",
   "mimetype": "text/x-python",
   "name": "python",
   "nbconvert_exporter": "python",
   "pygments_lexer": "ipython3",
   "version": "3.7.4"
  }
 },
 "nbformat": 4,
 "nbformat_minor": 2
}
